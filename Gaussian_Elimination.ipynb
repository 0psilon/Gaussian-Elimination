{
 "cells": [
  {
   "cell_type": "code",
   "execution_count": 1,
   "id": "9c89de5f",
   "metadata": {
    "scrolled": false
   },
   "outputs": [
    {
     "name": "stdout",
     "output_type": "stream",
     "text": [
      "2 2\n",
      "7 3 5\n",
      "3 2 2\n"
     ]
    }
   ],
   "source": [
    "n, m = [int(i) for i in input().split()] #размерность матрицы\n",
    "matrix = [[float(i) for i in input().split()] for _ in range(n)] #расширенная матрица n x m+1"
   ]
  },
  {
   "cell_type": "code",
   "execution_count": 2,
   "id": "80b4fa65",
   "metadata": {},
   "outputs": [
    {
     "name": "stdout",
     "output_type": "stream",
     "text": [
      "7.0          3.0          5.0          \n",
      "0.0          0.7142857    -0.1428571   \n",
      "\n",
      "YES\n",
      "0.7999999999999999 -0.19999999999999987\n"
     ]
    }
   ],
   "source": [
    "result = []\n",
    "\n",
    "for rep in range(min(m, n)):\n",
    "    \n",
    "    #переставляем местами строки, если начинаются с 0\n",
    "    if abs(matrix[rep][rep]) < 0.0000001:  \n",
    "        for i in range(rep, n):\n",
    "            if abs(matrix[i][rep]) > 0.0000001: \n",
    "                matrix[rep], matrix[i] = matrix[i], matrix[rep]\n",
    "                break\n",
    "\n",
    "    #формируем верхнетреугольную матрицу\n",
    "    for j in range(rep + 1, n): \n",
    "        if abs(matrix[j][rep]) > 0.0000001:\n",
    "            coeff = matrix[j][rep] / matrix[rep][rep]\n",
    "            for k in range(rep, m + 1):                \n",
    "                matrix[j][k] += -1 * coeff * matrix[rep][k]\n",
    "                \n",
    "\n",
    "#печатаем матрицу (для наглядности)                \n",
    "for i in range(n): \n",
    "    for j in range(m + 1):\n",
    "        print(str(round(matrix[i][j], 7)).ljust(12), end=' ')\n",
    "    print()\n",
    "                \n",
    "print()\n",
    "\n",
    "#определяем ранг расширенной матрицы\n",
    "counter1, counter2 = 0, 0 \n",
    "\n",
    "for i in matrix:\n",
    "    for j in i:\n",
    "        if abs(j) < 0.0000001:\n",
    "            counter1 += 1\n",
    "    if counter1 == m + 1:\n",
    "        counter2 += 1\n",
    "    counter1 = 0\n",
    "                \n",
    "rank1 = n - counter2\n",
    "\n",
    "#определяем ранг основной матрицы\n",
    "counter1, counter2 = 0, 0 \n",
    "\n",
    "for i in range(n):\n",
    "    for j in range(m):\n",
    "        if abs(matrix[i][j]) < 0.0000001:\n",
    "            counter1 += 1\n",
    "    if counter1 == m:\n",
    "        counter2 += 1\n",
    "    counter1 = 0\n",
    "\n",
    "rank2 = n - counter2\n",
    "\n",
    "#сравниваем ранги и определяем наличие корней\n",
    "if rank1 != rank2: \n",
    "    \n",
    "    print('NO')\n",
    "    \n",
    "else:\n",
    "    if rank1 != m:\n",
    "        \n",
    "        print('INF')\n",
    "        \n",
    "    else:\n",
    "        \n",
    "        j, f = -1, -2\n",
    "        for i in range(rank1 - 1, 0, -1):\n",
    "            x = matrix[i][j] / matrix[i][f]\n",
    "            result.append(x)\n",
    "            for v in range(len(result)):\n",
    "                matrix[i - 1][j] += -1 * matrix[i - 1][m - 1 - v] * result[v]\n",
    "            f -= 1\n",
    "                \n",
    "        x = matrix[0][j] / matrix[0][f]\n",
    "        result.append(x)\n",
    "        result.reverse()\n",
    "        print('YES')\n",
    "        print(*result)"
   ]
  }
 ],
 "metadata": {
  "kernelspec": {
   "display_name": "Python 3 (ipykernel)",
   "language": "python",
   "name": "python3"
  },
  "language_info": {
   "codemirror_mode": {
    "name": "ipython",
    "version": 3
   },
   "file_extension": ".py",
   "mimetype": "text/x-python",
   "name": "python",
   "nbconvert_exporter": "python",
   "pygments_lexer": "ipython3",
   "version": "3.8.8"
  }
 },
 "nbformat": 4,
 "nbformat_minor": 5
}
